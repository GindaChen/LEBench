{
 "cells": [
  {
   "cell_type": "code",
   "execution_count": 104,
   "metadata": {},
   "outputs": [],
   "source": [
    "import csv\n",
    "import pandas as pd\n",
    "from glob import glob\n",
    "import numpy as np\n",
    "import matplotlib\n",
    "import matplotlib.pyplot as plt"
   ]
  },
  {
   "cell_type": "code",
   "execution_count": 91,
   "metadata": {},
   "outputs": [],
   "source": [
    "task_files = glob(\"task*.csv\")"
   ]
  },
  {
   "cell_type": "code",
   "execution_count": 92,
   "metadata": {},
   "outputs": [],
   "source": [
    "def format_data(data):\n",
    "    result = []\n",
    "    for i in data:\n",
    "        r = [k.strip(\",\") for k in i.strip(\"\\n\").strip(\" \").strip(\",\").split(\":\")]\n",
    "        r[1] = float(r[1])\n",
    "        result.append(r)\n",
    "    return result"
   ]
  },
  {
   "cell_type": "code",
   "execution_count": 93,
   "metadata": {},
   "outputs": [],
   "source": [
    "def prepare_data(task_files):\n",
    "    tasks = {t: open(t) for t in task_files}\n",
    "    raw_data = {t: v.readlines() for t, v in tasks.items()}\n",
    "    data_dict = [{\n",
    "        \"file_name\": n,\n",
    "        \"test_name\": i[1].strip(\"\\n\").strip(\".\").strip(\"Test Name:,\"),\n",
    "        \"data\": format_data(i[2:])\n",
    "    } for n, i in raw_data.items()]\n",
    "    data_dict = sorted(data_dict, key=lambda x: x[\"file_name\"])\n",
    "    print(\"Test types:\\n\", set([i['test_name'] for i in data_dict]))\n",
    "    print(\"\")\n",
    "    print(\"File Names:\\n\", list([i['file_name'] for i in data_dict]))\n",
    "    return data_dict"
   ]
  },
  {
   "cell_type": "code",
   "execution_count": 94,
   "metadata": {},
   "outputs": [
    {
     "name": "stdout",
     "output_type": "stream",
     "text": [
      "Test types:\n",
      " {'4.12.0-standard', '4.12.0-patch', '4.12.0-config', '4.15.0-101-generic'}\n",
      "\n",
      "File Names:\n",
      " ['task1-1.csv', 'task1-2.csv', 'task1-3.csv', 'task1-4.csv', 'task2-1.csv', 'task2-2.csv', 'task2-3.csv', 'task2-4.csv', 'task3-1.csv', 'task3-2.csv', 'task3-3.csv', 'task3-4.csv', 'task4-1.csv', 'task4-2.csv', 'task4-3.csv', 'task4-4.csv']\n"
     ]
    }
   ],
   "source": [
    "data_dict = prepare_data(task_files)"
   ]
  },
  {
   "cell_type": "code",
   "execution_count": 95,
   "metadata": {},
   "outputs": [],
   "source": [
    "cols = [i[0] for i in data_dict[0][\"data\"]]"
   ]
  },
  {
   "cell_type": "code",
   "execution_count": 96,
   "metadata": {},
   "outputs": [],
   "source": [
    "heat_map_data = [[j[1] for j in i[\"data\"]] for i in data_dict]"
   ]
  },
  {
   "cell_type": "code",
   "execution_count": 85,
   "metadata": {},
   "outputs": [],
   "source": [
    "relative_boost = [[v / heat_map_data[1][j] for j, v in enumerate(u)] for i, u in enumerate(heat_map_data)]"
   ]
  },
  {
   "cell_type": "code",
   "execution_count": 86,
   "metadata": {},
   "outputs": [],
   "source": [
    "test_names = [i[\"test_name\"] for i in data_dict]"
   ]
  },
  {
   "cell_type": "code",
   "execution_count": 87,
   "metadata": {},
   "outputs": [],
   "source": [
    "file_name = [i[\"file_name\"] for i in data_dict]"
   ]
  },
  {
   "cell_type": "code",
   "execution_count": 98,
   "metadata": {},
   "outputs": [],
   "source": [
    "df = pd.DataFrame(heat_map_data, columns=cols)\n",
    "df[\"test_names\"] = test_names\n",
    "df[\"file_name\"] = file_name\n",
    "df\n",
    "absolute_df = df"
   ]
  },
  {
   "cell_type": "code",
   "execution_count": 99,
   "metadata": {},
   "outputs": [],
   "source": [
    "df = pd.DataFrame(relative_boost, columns=cols)\n",
    "df[\"test_names\"] = test_names\n",
    "df[\"file_name\"] = file_name\n",
    "df\n",
    "relative_df = df"
   ]
  },
  {
   "cell_type": "code",
   "execution_count": 108,
   "metadata": {},
   "outputs": [],
   "source": [
    "absolute_df.to_csv(\"result-absolute.csv\")"
   ]
  },
  {
   "cell_type": "code",
   "execution_count": 109,
   "metadata": {},
   "outputs": [],
   "source": [
    "relative_df.to_csv(\"result-relative.csv\")"
   ]
  },
  {
   "cell_type": "code",
   "execution_count": null,
   "metadata": {},
   "outputs": [],
   "source": []
  },
  {
   "cell_type": "code",
   "execution_count": 133,
   "metadata": {},
   "outputs": [],
   "source": [
    "intask_df = [absolute_df[absolute_df[\"file_name\"].str.contains(f\"task{i}-\")] for i in range(1,5)]"
   ]
  },
  {
   "cell_type": "code",
   "execution_count": 143,
   "metadata": {},
   "outputs": [],
   "source": [
    "crosstask_df = [absolute_df[absolute_df[\"file_name\"].str.contains(f\"-{i}.csv\")] for i in range(1,5)]"
   ]
  },
  {
   "cell_type": "code",
   "execution_count": null,
   "metadata": {},
   "outputs": [],
   "source": []
  },
  {
   "cell_type": "code",
   "execution_count": 187,
   "metadata": {},
   "outputs": [],
   "source": [
    "def get_normalized(df):\n",
    "    a = df[0]\n",
    "    b = a[[i for i in list(a.columns) if i not in [\"test_names\", \"file_name\"]]]\n",
    "    c = b.div(b[:1].sum())\n",
    "    return c"
   ]
  },
  {
   "cell_type": "code",
   "execution_count": null,
   "metadata": {},
   "outputs": [],
   "source": []
  },
  {
   "cell_type": "code",
   "execution_count": null,
   "metadata": {},
   "outputs": [],
   "source": []
  },
  {
   "cell_type": "code",
   "execution_count": 146,
   "metadata": {},
   "outputs": [],
   "source": [
    "a = crosstask_df[0]"
   ]
  },
  {
   "cell_type": "code",
   "execution_count": 147,
   "metadata": {},
   "outputs": [],
   "source": [
    "b = crosstask_df[1:]"
   ]
  },
  {
   "cell_type": "code",
   "execution_count": 157,
   "metadata": {},
   "outputs": [],
   "source": [
    "a "
   ]
  },
  {
   "cell_type": "code",
   "execution_count": null,
   "metadata": {},
   "outputs": [],
   "source": []
  }
 ],
 "metadata": {
  "kernelspec": {
   "display_name": "Python 3",
   "language": "python",
   "name": "python3"
  },
  "language_info": {
   "codemirror_mode": {
    "name": "ipython",
    "version": 3
   },
   "file_extension": ".py",
   "mimetype": "text/x-python",
   "name": "python",
   "nbconvert_exporter": "python",
   "pygments_lexer": "ipython3",
   "version": "3.6.8"
  }
 },
 "nbformat": 4,
 "nbformat_minor": 4
}
