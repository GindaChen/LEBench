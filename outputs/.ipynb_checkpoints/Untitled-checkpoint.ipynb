{
 "cells": [
  {
   "cell_type": "code",
   "execution_count": 1,
   "metadata": {},
   "outputs": [],
   "source": [
    "import csv\n",
    "import pandas as pd\n",
    "from glob import glob\n",
    "import numpy as np\n",
    "import matplotlib\n",
    "import matplotlib.pyplot as plt"
   ]
  },
  {
   "cell_type": "markdown",
   "metadata": {},
   "source": [
    "# Prepare data"
   ]
  },
  {
   "cell_type": "code",
   "execution_count": 2,
   "metadata": {},
   "outputs": [],
   "source": [
    "task_files = glob(\"task*.csv\")"
   ]
  },
  {
   "cell_type": "code",
   "execution_count": 3,
   "metadata": {},
   "outputs": [],
   "source": [
    "def format_data(data):\n",
    "    result = []\n",
    "    for i in data:\n",
    "        r = [k.strip(\",\") for k in i.strip(\"\\n\").strip(\" \").strip(\",\").split(\":\")]\n",
    "        r[1] = float(r[1])\n",
    "        result.append(r)\n",
    "    return result"
   ]
  },
  {
   "cell_type": "code",
   "execution_count": 4,
   "metadata": {},
   "outputs": [],
   "source": [
    "def prepare_data(task_files):\n",
    "    tasks = {t: open(t) for t in task_files}\n",
    "    raw_data = {t: v.readlines() for t, v in tasks.items()}\n",
    "    data_dict = [{\n",
    "        \"file_name\": n,\n",
    "        \"test_name\": i[1].strip(\"\\n\").strip(\".\").strip(\"Test Name:,\"),\n",
    "        \"data\": format_data(i[2:])\n",
    "    } for n, i in raw_data.items()]\n",
    "    data_dict = sorted(data_dict, key=lambda x: x[\"file_name\"])\n",
    "    print(\"Test types:\\n\", set([i['test_name'] for i in data_dict]))\n",
    "    print(\"\")\n",
    "    print(\"File Names:\\n\", list([i['file_name'] for i in data_dict]))\n",
    "    return data_dict"
   ]
  },
  {
   "cell_type": "code",
   "execution_count": 5,
   "metadata": {},
   "outputs": [
    {
     "name": "stdout",
     "output_type": "stream",
     "text": [
      "Test types:\n",
      " {'4.12.0-patch', '4.12.0-config', '4.12.0-standard', '4.15.0-101-generic'}\n",
      "\n",
      "File Names:\n",
      " ['task1-1.csv', 'task1-2.csv', 'task1-3.csv', 'task1-4.csv', 'task2-1.csv', 'task2-2.csv', 'task2-3.csv', 'task2-4.csv', 'task3-1.csv', 'task3-2.csv', 'task3-3.csv', 'task3-4.csv', 'task4-1.csv', 'task4-2.csv', 'task4-3.csv', 'task4-4.csv']\n"
     ]
    }
   ],
   "source": [
    "data_dict = prepare_data(task_files)"
   ]
  },
  {
   "cell_type": "code",
   "execution_count": 6,
   "metadata": {},
   "outputs": [],
   "source": [
    "cols = [i[0] for i in data_dict[0][\"data\"]]"
   ]
  },
  {
   "cell_type": "code",
   "execution_count": 7,
   "metadata": {},
   "outputs": [],
   "source": [
    "heat_map_data = [[j[1] for j in i[\"data\"]] for i in data_dict]"
   ]
  },
  {
   "cell_type": "code",
   "execution_count": 8,
   "metadata": {},
   "outputs": [],
   "source": [
    "relative_boost = [[v / heat_map_data[1][j] for j, v in enumerate(u)] for i, u in enumerate(heat_map_data)]"
   ]
  },
  {
   "cell_type": "code",
   "execution_count": 9,
   "metadata": {},
   "outputs": [],
   "source": [
    "test_names = [i[\"test_name\"] for i in data_dict]"
   ]
  },
  {
   "cell_type": "code",
   "execution_count": 10,
   "metadata": {},
   "outputs": [],
   "source": [
    "file_name = [i[\"file_name\"] for i in data_dict]"
   ]
  },
  {
   "cell_type": "code",
   "execution_count": 11,
   "metadata": {},
   "outputs": [],
   "source": [
    "df = pd.DataFrame(heat_map_data, columns=cols)\n",
    "df[\"test_names\"] = test_names\n",
    "df[\"file_name\"] = file_name\n",
    "df\n",
    "absolute_df = df"
   ]
  },
  {
   "cell_type": "code",
   "execution_count": 12,
   "metadata": {},
   "outputs": [],
   "source": [
    "df = pd.DataFrame(relative_boost, columns=cols)\n",
    "df[\"test_names\"] = test_names\n",
    "df[\"file_name\"] = file_name\n",
    "df\n",
    "relative_df = df"
   ]
  },
  {
   "cell_type": "code",
   "execution_count": null,
   "metadata": {},
   "outputs": [],
   "source": []
  },
  {
   "cell_type": "code",
   "execution_count": 17,
   "metadata": {},
   "outputs": [
    {
     "data": {
      "text/html": [
       "<div>\n",
       "<style scoped>\n",
       "    .dataframe tbody tr th:only-of-type {\n",
       "        vertical-align: middle;\n",
       "    }\n",
       "\n",
       "    .dataframe tbody tr th {\n",
       "        vertical-align: top;\n",
       "    }\n",
       "\n",
       "    .dataframe thead th {\n",
       "        text-align: right;\n",
       "    }\n",
       "</style>\n",
       "<table border=\"1\" class=\"dataframe\">\n",
       "  <thead>\n",
       "    <tr style=\"text-align: right;\">\n",
       "      <th></th>\n",
       "      <th>ref          kbest</th>\n",
       "      <th>ref        average</th>\n",
       "      <th>cpu          kbest</th>\n",
       "      <th>cpu        average</th>\n",
       "      <th>getpid          kbest</th>\n",
       "      <th>getpid        average</th>\n",
       "      <th>send          kbest</th>\n",
       "      <th>send        average</th>\n",
       "      <th>recv          kbest</th>\n",
       "      <th>recv        average</th>\n",
       "      <th>...</th>\n",
       "      <th>epoll          kbest</th>\n",
       "      <th>epoll        average</th>\n",
       "      <th>select big          kbest</th>\n",
       "      <th>select big        average</th>\n",
       "      <th>poll big          kbest</th>\n",
       "      <th>poll big        average</th>\n",
       "      <th>epoll big          kbest</th>\n",
       "      <th>epoll big        average</th>\n",
       "      <th>test_names</th>\n",
       "      <th>file_name</th>\n",
       "    </tr>\n",
       "  </thead>\n",
       "  <tbody>\n",
       "    <tr>\n",
       "      <th>0</th>\n",
       "      <td>2.800000e-08</td>\n",
       "      <td>4.400000e-08</td>\n",
       "      <td>0.003085</td>\n",
       "      <td>0.003653</td>\n",
       "      <td>5.300000e-07</td>\n",
       "      <td>5.430000e-07</td>\n",
       "      <td>8.920000e-07</td>\n",
       "      <td>0.000002</td>\n",
       "      <td>0.000001</td>\n",
       "      <td>0.000002</td>\n",
       "      <td>...</td>\n",
       "      <td>0.000002</td>\n",
       "      <td>0.000002</td>\n",
       "      <td>0.000115</td>\n",
       "      <td>0.000126</td>\n",
       "      <td>0.000126</td>\n",
       "      <td>0.000137</td>\n",
       "      <td>0.000149</td>\n",
       "      <td>0.000168</td>\n",
       "      <td>4.15.0-101-generic</td>\n",
       "      <td>task1-1.csv</td>\n",
       "    </tr>\n",
       "    <tr>\n",
       "      <th>1</th>\n",
       "      <td>2.800000e-08</td>\n",
       "      <td>3.100000e-08</td>\n",
       "      <td>0.003085</td>\n",
       "      <td>0.003103</td>\n",
       "      <td>5.270000e-07</td>\n",
       "      <td>5.390000e-07</td>\n",
       "      <td>8.950000e-07</td>\n",
       "      <td>0.000002</td>\n",
       "      <td>0.000001</td>\n",
       "      <td>0.000002</td>\n",
       "      <td>...</td>\n",
       "      <td>0.000002</td>\n",
       "      <td>0.000002</td>\n",
       "      <td>0.000116</td>\n",
       "      <td>0.000128</td>\n",
       "      <td>0.000125</td>\n",
       "      <td>0.000138</td>\n",
       "      <td>0.000148</td>\n",
       "      <td>0.000168</td>\n",
       "      <td>4.15.0-101-generic</td>\n",
       "      <td>task1-2.csv</td>\n",
       "    </tr>\n",
       "    <tr>\n",
       "      <th>2</th>\n",
       "      <td>2.800000e-08</td>\n",
       "      <td>4.300000e-08</td>\n",
       "      <td>0.003085</td>\n",
       "      <td>0.003653</td>\n",
       "      <td>5.280000e-07</td>\n",
       "      <td>5.380000e-07</td>\n",
       "      <td>8.970000e-07</td>\n",
       "      <td>0.000002</td>\n",
       "      <td>0.000001</td>\n",
       "      <td>0.000002</td>\n",
       "      <td>...</td>\n",
       "      <td>0.000002</td>\n",
       "      <td>0.000002</td>\n",
       "      <td>0.000114</td>\n",
       "      <td>0.000127</td>\n",
       "      <td>0.000125</td>\n",
       "      <td>0.000137</td>\n",
       "      <td>0.000149</td>\n",
       "      <td>0.000167</td>\n",
       "      <td>4.15.0-101-generic</td>\n",
       "      <td>task1-3.csv</td>\n",
       "    </tr>\n",
       "  </tbody>\n",
       "</table>\n",
       "<p>3 rows × 86 columns</p>\n",
       "</div>"
      ],
      "text/plain": [
       "   ref          kbest  ref        average  cpu          kbest  \\\n",
       "0        2.800000e-08        4.400000e-08            0.003085   \n",
       "1        2.800000e-08        3.100000e-08            0.003085   \n",
       "2        2.800000e-08        4.300000e-08            0.003085   \n",
       "\n",
       "   cpu        average  getpid          kbest  getpid        average  \\\n",
       "0            0.003653           5.300000e-07           5.430000e-07   \n",
       "1            0.003103           5.270000e-07           5.390000e-07   \n",
       "2            0.003653           5.280000e-07           5.380000e-07   \n",
       "\n",
       "   send          kbest  send        average  recv          kbest  \\\n",
       "0         8.920000e-07             0.000002             0.000001   \n",
       "1         8.950000e-07             0.000002             0.000001   \n",
       "2         8.970000e-07             0.000002             0.000001   \n",
       "\n",
       "   recv        average  ...  epoll          kbest  epoll        average  \\\n",
       "0             0.000002  ...              0.000002              0.000002   \n",
       "1             0.000002  ...              0.000002              0.000002   \n",
       "2             0.000002  ...              0.000002              0.000002   \n",
       "\n",
       "   select big          kbest  select big        average  \\\n",
       "0                   0.000115                   0.000126   \n",
       "1                   0.000116                   0.000128   \n",
       "2                   0.000114                   0.000127   \n",
       "\n",
       "   poll big          kbest  poll big        average  epoll big          kbest  \\\n",
       "0                 0.000126                 0.000137                  0.000149   \n",
       "1                 0.000125                 0.000138                  0.000148   \n",
       "2                 0.000125                 0.000137                  0.000149   \n",
       "\n",
       "   epoll big        average          test_names    file_name  \n",
       "0                  0.000168  4.15.0-101-generic  task1-1.csv  \n",
       "1                  0.000168  4.15.0-101-generic  task1-2.csv  \n",
       "2                  0.000167  4.15.0-101-generic  task1-3.csv  \n",
       "\n",
       "[3 rows x 86 columns]"
      ]
     },
     "execution_count": 17,
     "metadata": {},
     "output_type": "execute_result"
    }
   ],
   "source": [
    "absolute_df.head(3)"
   ]
  },
  {
   "cell_type": "code",
   "execution_count": null,
   "metadata": {},
   "outputs": [],
   "source": []
  },
  {
   "cell_type": "code",
   "execution_count": 18,
   "metadata": {},
   "outputs": [],
   "source": [
    "absolute_df.to_csv(\"result-absolute.csv\")"
   ]
  },
  {
   "cell_type": "code",
   "execution_count": 19,
   "metadata": {},
   "outputs": [],
   "source": [
    "relative_df.to_csv(\"result-relative.csv\")"
   ]
  },
  {
   "cell_type": "code",
   "execution_count": null,
   "metadata": {},
   "outputs": [],
   "source": []
  },
  {
   "cell_type": "code",
   "execution_count": 20,
   "metadata": {},
   "outputs": [],
   "source": [
    "intask_df = [absolute_df[absolute_df[\"file_name\"].str.contains(f\"task{i}-\")] for i in range(1,5)]"
   ]
  },
  {
   "cell_type": "code",
   "execution_count": 21,
   "metadata": {},
   "outputs": [],
   "source": [
    "crosstask_df = [absolute_df[absolute_df[\"file_name\"].str.contains(f\"-{i}.csv\")] for i in range(1,5)]"
   ]
  },
  {
   "cell_type": "code",
   "execution_count": null,
   "metadata": {},
   "outputs": [],
   "source": []
  },
  {
   "cell_type": "code",
   "execution_count": 22,
   "metadata": {},
   "outputs": [],
   "source": [
    "a = crosstask_df[0]"
   ]
  },
  {
   "cell_type": "code",
   "execution_count": 23,
   "metadata": {},
   "outputs": [],
   "source": [
    "b = [a[i] for i in a.columns]\n",
    "x = [1,2,3,4]"
   ]
  },
  {
   "cell_type": "code",
   "execution_count": 24,
   "metadata": {},
   "outputs": [
    {
     "data": {
      "text/html": [
       "<div>\n",
       "<style scoped>\n",
       "    .dataframe tbody tr th:only-of-type {\n",
       "        vertical-align: middle;\n",
       "    }\n",
       "\n",
       "    .dataframe tbody tr th {\n",
       "        vertical-align: top;\n",
       "    }\n",
       "\n",
       "    .dataframe thead th {\n",
       "        text-align: right;\n",
       "    }\n",
       "</style>\n",
       "<table border=\"1\" class=\"dataframe\">\n",
       "  <thead>\n",
       "    <tr style=\"text-align: right;\">\n",
       "      <th></th>\n",
       "      <th>ref          kbest</th>\n",
       "      <th>ref        average</th>\n",
       "      <th>cpu          kbest</th>\n",
       "      <th>cpu        average</th>\n",
       "      <th>getpid          kbest</th>\n",
       "      <th>getpid        average</th>\n",
       "      <th>send          kbest</th>\n",
       "      <th>send        average</th>\n",
       "      <th>recv          kbest</th>\n",
       "      <th>recv        average</th>\n",
       "      <th>...</th>\n",
       "      <th>epoll          kbest</th>\n",
       "      <th>epoll        average</th>\n",
       "      <th>select big          kbest</th>\n",
       "      <th>select big        average</th>\n",
       "      <th>poll big          kbest</th>\n",
       "      <th>poll big        average</th>\n",
       "      <th>epoll big          kbest</th>\n",
       "      <th>epoll big        average</th>\n",
       "      <th>test_names</th>\n",
       "      <th>file_name</th>\n",
       "    </tr>\n",
       "  </thead>\n",
       "  <tbody>\n",
       "    <tr>\n",
       "      <th>0</th>\n",
       "      <td>2.800000e-08</td>\n",
       "      <td>4.400000e-08</td>\n",
       "      <td>0.003085</td>\n",
       "      <td>0.003653</td>\n",
       "      <td>5.300000e-07</td>\n",
       "      <td>5.430000e-07</td>\n",
       "      <td>8.920000e-07</td>\n",
       "      <td>0.000002</td>\n",
       "      <td>1.178000e-06</td>\n",
       "      <td>0.000002</td>\n",
       "      <td>...</td>\n",
       "      <td>1.725000e-06</td>\n",
       "      <td>1.962000e-06</td>\n",
       "      <td>0.000115</td>\n",
       "      <td>0.000126</td>\n",
       "      <td>0.000126</td>\n",
       "      <td>0.000137</td>\n",
       "      <td>0.000149</td>\n",
       "      <td>0.000168</td>\n",
       "      <td>4.15.0-101-generic</td>\n",
       "      <td>task1-1.csv</td>\n",
       "    </tr>\n",
       "    <tr>\n",
       "      <th>4</th>\n",
       "      <td>2.800000e-08</td>\n",
       "      <td>3.300000e-08</td>\n",
       "      <td>0.003085</td>\n",
       "      <td>0.003117</td>\n",
       "      <td>7.700000e-08</td>\n",
       "      <td>8.100000e-08</td>\n",
       "      <td>3.550000e-07</td>\n",
       "      <td>0.000001</td>\n",
       "      <td>4.810000e-07</td>\n",
       "      <td>0.000002</td>\n",
       "      <td>...</td>\n",
       "      <td>7.850000e-07</td>\n",
       "      <td>9.110000e-07</td>\n",
       "      <td>0.000051</td>\n",
       "      <td>0.000059</td>\n",
       "      <td>0.000065</td>\n",
       "      <td>0.000073</td>\n",
       "      <td>0.000088</td>\n",
       "      <td>0.000101</td>\n",
       "      <td>4.12.0-standard</td>\n",
       "      <td>task2-1.csv</td>\n",
       "    </tr>\n",
       "    <tr>\n",
       "      <th>8</th>\n",
       "      <td>2.800000e-08</td>\n",
       "      <td>3.200000e-08</td>\n",
       "      <td>0.003085</td>\n",
       "      <td>0.003108</td>\n",
       "      <td>7.800000e-08</td>\n",
       "      <td>8.100000e-08</td>\n",
       "      <td>3.590000e-07</td>\n",
       "      <td>0.000001</td>\n",
       "      <td>4.830000e-07</td>\n",
       "      <td>0.000001</td>\n",
       "      <td>...</td>\n",
       "      <td>7.820000e-07</td>\n",
       "      <td>9.180000e-07</td>\n",
       "      <td>0.000052</td>\n",
       "      <td>0.000058</td>\n",
       "      <td>0.000064</td>\n",
       "      <td>0.000074</td>\n",
       "      <td>0.000088</td>\n",
       "      <td>0.000101</td>\n",
       "      <td>4.12.0-patch</td>\n",
       "      <td>task3-1.csv</td>\n",
       "    </tr>\n",
       "    <tr>\n",
       "      <th>12</th>\n",
       "      <td>2.800000e-08</td>\n",
       "      <td>3.200000e-08</td>\n",
       "      <td>0.003085</td>\n",
       "      <td>0.003120</td>\n",
       "      <td>8.000000e-08</td>\n",
       "      <td>8.400000e-08</td>\n",
       "      <td>3.290000e-07</td>\n",
       "      <td>0.000001</td>\n",
       "      <td>4.810000e-07</td>\n",
       "      <td>0.000002</td>\n",
       "      <td>...</td>\n",
       "      <td>7.790000e-07</td>\n",
       "      <td>9.310000e-07</td>\n",
       "      <td>0.000054</td>\n",
       "      <td>0.000063</td>\n",
       "      <td>0.000068</td>\n",
       "      <td>0.000076</td>\n",
       "      <td>0.000092</td>\n",
       "      <td>0.000106</td>\n",
       "      <td>4.12.0-config</td>\n",
       "      <td>task4-1.csv</td>\n",
       "    </tr>\n",
       "  </tbody>\n",
       "</table>\n",
       "<p>4 rows × 86 columns</p>\n",
       "</div>"
      ],
      "text/plain": [
       "    ref          kbest  ref        average  cpu          kbest  \\\n",
       "0         2.800000e-08        4.400000e-08            0.003085   \n",
       "4         2.800000e-08        3.300000e-08            0.003085   \n",
       "8         2.800000e-08        3.200000e-08            0.003085   \n",
       "12        2.800000e-08        3.200000e-08            0.003085   \n",
       "\n",
       "    cpu        average  getpid          kbest  getpid        average  \\\n",
       "0             0.003653           5.300000e-07           5.430000e-07   \n",
       "4             0.003117           7.700000e-08           8.100000e-08   \n",
       "8             0.003108           7.800000e-08           8.100000e-08   \n",
       "12            0.003120           8.000000e-08           8.400000e-08   \n",
       "\n",
       "    send          kbest  send        average  recv          kbest  \\\n",
       "0          8.920000e-07             0.000002         1.178000e-06   \n",
       "4          3.550000e-07             0.000001         4.810000e-07   \n",
       "8          3.590000e-07             0.000001         4.830000e-07   \n",
       "12         3.290000e-07             0.000001         4.810000e-07   \n",
       "\n",
       "    recv        average  ...  epoll          kbest  epoll        average  \\\n",
       "0              0.000002  ...          1.725000e-06          1.962000e-06   \n",
       "4              0.000002  ...          7.850000e-07          9.110000e-07   \n",
       "8              0.000001  ...          7.820000e-07          9.180000e-07   \n",
       "12             0.000002  ...          7.790000e-07          9.310000e-07   \n",
       "\n",
       "    select big          kbest  select big        average  \\\n",
       "0                    0.000115                   0.000126   \n",
       "4                    0.000051                   0.000059   \n",
       "8                    0.000052                   0.000058   \n",
       "12                   0.000054                   0.000063   \n",
       "\n",
       "    poll big          kbest  poll big        average  \\\n",
       "0                  0.000126                 0.000137   \n",
       "4                  0.000065                 0.000073   \n",
       "8                  0.000064                 0.000074   \n",
       "12                 0.000068                 0.000076   \n",
       "\n",
       "    epoll big          kbest  epoll big        average          test_names  \\\n",
       "0                   0.000149                  0.000168  4.15.0-101-generic   \n",
       "4                   0.000088                  0.000101     4.12.0-standard   \n",
       "8                   0.000088                  0.000101        4.12.0-patch   \n",
       "12                  0.000092                  0.000106       4.12.0-config   \n",
       "\n",
       "      file_name  \n",
       "0   task1-1.csv  \n",
       "4   task2-1.csv  \n",
       "8   task3-1.csv  \n",
       "12  task4-1.csv  \n",
       "\n",
       "[4 rows x 86 columns]"
      ]
     },
     "execution_count": 24,
     "metadata": {},
     "output_type": "execute_result"
    }
   ],
   "source": [
    "a"
   ]
  },
  {
   "cell_type": "code",
   "execution_count": null,
   "metadata": {},
   "outputs": [],
   "source": []
  },
  {
   "cell_type": "code",
   "execution_count": 25,
   "metadata": {
    "scrolled": true
   },
   "outputs": [
    {
     "data": {
      "text/plain": [
       "86"
      ]
     },
     "execution_count": 25,
     "metadata": {},
     "output_type": "execute_result"
    }
   ],
   "source": [
    "len(b)"
   ]
  },
  {
   "cell_type": "code",
   "execution_count": 26,
   "metadata": {},
   "outputs": [],
   "source": [
    "import re"
   ]
  },
  {
   "cell_type": "code",
   "execution_count": 29,
   "metadata": {},
   "outputs": [],
   "source": [
    "# name = iterate_set[4].name.replace(\"average\", \"-average\").replace(\"kbest\", \"-kbest\")\n",
    "# name.find(\" -\")\n",
    "# re.sub(\"[ ]*[-](average)$\", \"-average\", name)\n",
    "# re.sub(\"[ ]*[-](kbest)$\", \"-kbest\", name)"
   ]
  },
  {
   "cell_type": "code",
   "execution_count": null,
   "metadata": {},
   "outputs": [],
   "source": []
  },
  {
   "cell_type": "code",
   "execution_count": null,
   "metadata": {},
   "outputs": [],
   "source": []
  },
  {
   "cell_type": "code",
   "execution_count": 31,
   "metadata": {
    "scrolled": true
   },
   "outputs": [],
   "source": [
    "# for i, k in enumerate(iterate_set):\n",
    "#     name = k.name\n",
    "#     name = re.sub(\"[ ]*(average)$\", \" (average)\", name)\n",
    "#     name = re.sub(\"[ ]*(kbest)$\", \" (kbest)\", name)\n",
    "#     print(name)"
   ]
  },
  {
   "cell_type": "code",
   "execution_count": null,
   "metadata": {},
   "outputs": [],
   "source": []
  },
  {
   "cell_type": "code",
   "execution_count": 54,
   "metadata": {},
   "outputs": [
    {
     "ename": "AttributeError",
     "evalue": "This method only works with the ScalarFormatter",
     "output_type": "error",
     "traceback": [
      "\u001b[0;31m---------------------------------------------------------------------------\u001b[0m",
      "\u001b[0;31mAttributeError\u001b[0m                            Traceback (most recent call last)",
      "\u001b[0;32m/Library/Frameworks/Python.framework/Versions/3.6/lib/python3.6/site-packages/matplotlib/axes/_base.py\u001b[0m in \u001b[0;36mticklabel_format\u001b[0;34m(self, axis, style, scilimits, useOffset, useLocale, useMathText)\u001b[0m\n\u001b[1;32m   2957\u001b[0m                 \u001b[0;32mif\u001b[0m \u001b[0mis_sci_style\u001b[0m \u001b[0;32mis\u001b[0m \u001b[0;32mnot\u001b[0m \u001b[0;32mNone\u001b[0m\u001b[0;34m:\u001b[0m\u001b[0;34m\u001b[0m\u001b[0;34m\u001b[0m\u001b[0m\n\u001b[0;32m-> 2958\u001b[0;31m                     \u001b[0maxis\u001b[0m\u001b[0;34m.\u001b[0m\u001b[0mmajor\u001b[0m\u001b[0;34m.\u001b[0m\u001b[0mformatter\u001b[0m\u001b[0;34m.\u001b[0m\u001b[0mset_scientific\u001b[0m\u001b[0;34m(\u001b[0m\u001b[0mis_sci_style\u001b[0m\u001b[0;34m)\u001b[0m\u001b[0;34m\u001b[0m\u001b[0;34m\u001b[0m\u001b[0m\n\u001b[0m\u001b[1;32m   2959\u001b[0m                 \u001b[0;32mif\u001b[0m \u001b[0mscilimits\u001b[0m \u001b[0;32mis\u001b[0m \u001b[0;32mnot\u001b[0m \u001b[0;32mNone\u001b[0m\u001b[0;34m:\u001b[0m\u001b[0;34m\u001b[0m\u001b[0;34m\u001b[0m\u001b[0m\n",
      "\u001b[0;31mAttributeError\u001b[0m: 'StrCategoryFormatter' object has no attribute 'set_scientific'",
      "\nThe above exception was the direct cause of the following exception:\n",
      "\u001b[0;31mAttributeError\u001b[0m                            Traceback (most recent call last)",
      "\u001b[0;32m<ipython-input-54-6d89179351be>\u001b[0m in \u001b[0;36m<module>\u001b[0;34m\u001b[0m\n\u001b[1;32m     37\u001b[0m         \u001b[0;34m[\u001b[0m\u001b[0;36m1\u001b[0m\u001b[0;34m,\u001b[0m\u001b[0;36m2\u001b[0m\u001b[0;34m,\u001b[0m\u001b[0;36m3\u001b[0m\u001b[0;34m,\u001b[0m\u001b[0;36m4\u001b[0m\u001b[0;34m]\u001b[0m\u001b[0;34m,\u001b[0m \u001b[0mxtick_labels\u001b[0m\u001b[0;34m,\u001b[0m\u001b[0;34m\u001b[0m\u001b[0;34m\u001b[0m\u001b[0m\n\u001b[1;32m     38\u001b[0m     )\n\u001b[0;32m---> 39\u001b[0;31m     \u001b[0mplt\u001b[0m\u001b[0;34m.\u001b[0m\u001b[0mticklabel_format\u001b[0m\u001b[0;34m(\u001b[0m\u001b[0maxis\u001b[0m\u001b[0;34m=\u001b[0m\u001b[0;34m\"y\"\u001b[0m\u001b[0;34m,\u001b[0m \u001b[0mstyle\u001b[0m\u001b[0;34m=\u001b[0m\u001b[0;34m\"sci\"\u001b[0m\u001b[0;34m,\u001b[0m \u001b[0mscilimits\u001b[0m\u001b[0;34m=\u001b[0m\u001b[0;34m(\u001b[0m\u001b[0;36m0\u001b[0m\u001b[0;34m,\u001b[0m\u001b[0;36m0\u001b[0m\u001b[0;34m)\u001b[0m\u001b[0;34m)\u001b[0m\u001b[0;34m\u001b[0m\u001b[0;34m\u001b[0m\u001b[0m\n\u001b[0m\u001b[1;32m     40\u001b[0m     \u001b[0mfig\u001b[0m\u001b[0;34m.\u001b[0m\u001b[0msavefig\u001b[0m\u001b[0;34m(\u001b[0m\u001b[0;34mf\"{i}-{name}.png\"\u001b[0m\u001b[0;34m)\u001b[0m\u001b[0;34m;\u001b[0m\u001b[0;34m\u001b[0m\u001b[0;34m\u001b[0m\u001b[0m\n\u001b[1;32m     41\u001b[0m     \u001b[0mplt\u001b[0m\u001b[0;34m.\u001b[0m\u001b[0mclose\u001b[0m\u001b[0;34m(\u001b[0m\u001b[0mfig\u001b[0m\u001b[0;34m)\u001b[0m\u001b[0;34m\u001b[0m\u001b[0;34m\u001b[0m\u001b[0m\n",
      "\u001b[0;32m/Library/Frameworks/Python.framework/Versions/3.6/lib/python3.6/site-packages/matplotlib/pyplot.py\u001b[0m in \u001b[0;36mticklabel_format\u001b[0;34m(axis, style, scilimits, useOffset, useLocale, useMathText)\u001b[0m\n\u001b[1;32m   3024\u001b[0m         \u001b[0maxis\u001b[0m\u001b[0;34m=\u001b[0m\u001b[0maxis\u001b[0m\u001b[0;34m,\u001b[0m \u001b[0mstyle\u001b[0m\u001b[0;34m=\u001b[0m\u001b[0mstyle\u001b[0m\u001b[0;34m,\u001b[0m \u001b[0mscilimits\u001b[0m\u001b[0;34m=\u001b[0m\u001b[0mscilimits\u001b[0m\u001b[0;34m,\u001b[0m\u001b[0;34m\u001b[0m\u001b[0;34m\u001b[0m\u001b[0m\n\u001b[1;32m   3025\u001b[0m         \u001b[0museOffset\u001b[0m\u001b[0;34m=\u001b[0m\u001b[0museOffset\u001b[0m\u001b[0;34m,\u001b[0m \u001b[0museLocale\u001b[0m\u001b[0;34m=\u001b[0m\u001b[0museLocale\u001b[0m\u001b[0;34m,\u001b[0m\u001b[0;34m\u001b[0m\u001b[0;34m\u001b[0m\u001b[0m\n\u001b[0;32m-> 3026\u001b[0;31m         useMathText=useMathText)\n\u001b[0m\u001b[1;32m   3027\u001b[0m \u001b[0;34m\u001b[0m\u001b[0m\n\u001b[1;32m   3028\u001b[0m \u001b[0;34m\u001b[0m\u001b[0m\n",
      "\u001b[0;32m/Library/Frameworks/Python.framework/Versions/3.6/lib/python3.6/site-packages/matplotlib/axes/_base.py\u001b[0m in \u001b[0;36mticklabel_format\u001b[0;34m(self, axis, style, scilimits, useOffset, useLocale, useMathText)\u001b[0m\n\u001b[1;32m   2967\u001b[0m         \u001b[0;32mexcept\u001b[0m \u001b[0mAttributeError\u001b[0m \u001b[0;32mas\u001b[0m \u001b[0merr\u001b[0m\u001b[0;34m:\u001b[0m\u001b[0;34m\u001b[0m\u001b[0;34m\u001b[0m\u001b[0m\n\u001b[1;32m   2968\u001b[0m             raise AttributeError(\n\u001b[0;32m-> 2969\u001b[0;31m                 \"This method only works with the ScalarFormatter\") from err\n\u001b[0m\u001b[1;32m   2970\u001b[0m \u001b[0;34m\u001b[0m\u001b[0m\n\u001b[1;32m   2971\u001b[0m     \u001b[0;32mdef\u001b[0m \u001b[0mlocator_params\u001b[0m\u001b[0;34m(\u001b[0m\u001b[0mself\u001b[0m\u001b[0;34m,\u001b[0m \u001b[0maxis\u001b[0m\u001b[0;34m=\u001b[0m\u001b[0;34m'both'\u001b[0m\u001b[0;34m,\u001b[0m \u001b[0mtight\u001b[0m\u001b[0;34m=\u001b[0m\u001b[0;32mNone\u001b[0m\u001b[0;34m,\u001b[0m \u001b[0;34m**\u001b[0m\u001b[0mkwargs\u001b[0m\u001b[0;34m)\u001b[0m\u001b[0;34m:\u001b[0m\u001b[0;34m\u001b[0m\u001b[0;34m\u001b[0m\u001b[0m\n",
      "\u001b[0;31mAttributeError\u001b[0m: This method only works with the ScalarFormatter"
     ]
    },
    {
     "data": {
      "image/png": "[encoded data removed]",
      "text/plain": [
       "<Figure size 480x320 with 1 Axes>"
      ]
     },
     "metadata": {
      "needs_background": "light"
     },
     "output_type": "display_data"
    }
   ],
   "source": [
    "# import math\n",
    "# iterate_set = b[:12]\n",
    "# iterate_len = len(iterate_set)\n",
    "# FIG_ROW = 3\n",
    "# FIG_COL = int(math.ceil(iterate_len/FIG_ROW))\n",
    "# for i, k in enumerate(iterate_set):\n",
    "#     ax = plt.subplot(FIG_ROW, FIG_COL, i+1)\n",
    "#     p = ax.bar(x, k)\n",
    "# #     ax.xaxis.set_label_text(k.name)\n",
    "#     ax.set_title(k.name.replace(\" \", \"-\", 1).replace(\" \", \"\"))\n",
    "\n",
    "dpi = 80\n",
    "import matplotlib as mpl\n",
    "mpl.rcParams['figure.dpi']= dpi\n",
    "\n",
    "import matplotlib as mpl\n",
    "mpl.rc(\"savefig\", dpi=dpi)\n",
    "\n",
    "iterate_set = b\n",
    "xtick_index = [1, 2, 3, 4]\n",
    "xtick_labels = [\"4.15\",\"4.12\",\"4.12-patch\",\"4.12-config\"]\n",
    "\n",
    "iterate_set = iterate_set\n",
    "for i, k in enumerate(iterate_set):\n",
    "    name = k.name\n",
    "    name = re.sub(\"[ ]*(average)$\", \" (average)\", name)\n",
    "    name = re.sub(\"[ ]*(kbest)$\", \" (kbest)\", name)\n",
    "    name = name.replace(\" \", \"-\")\n",
    "    title_name = name.replace(\"-(average)\", \"\").replace(\"-(kbest)\", \"\")\n",
    "    \n",
    "    fig = plt.figure();\n",
    "    plt.bar(x, k);\n",
    "    plt.title(title_name, fontsize=30);\n",
    "    plt.ylabel(\n",
    "        \"test latency (seconds)\", fontsize=15)\n",
    "    plt.xticks(\n",
    "        [1,2,3,4], xtick_labels,\n",
    "    )\n",
    "    plt.ticklabel_format(axis=\"y\", style=\"sci\", scilimits=(0,0))\n",
    "    fig.savefig(f\"{i}-{name}.png\");\n",
    "    plt.close(fig)"
   ]
  },
  {
   "cell_type": "code",
   "execution_count": 35,
   "metadata": {},
   "outputs": [],
   "source": [
    "def get_numeric_cols(a):\n",
    "    return a[[i for i in list(a.columns) if i not in [\"test_names\", \"file_name\"]]]"
   ]
  },
  {
   "cell_type": "code",
   "execution_count": 36,
   "metadata": {},
   "outputs": [],
   "source": [
    "def get_normalized(a, normalized_idx=0):\n",
    "    b = get_numeric_cols(a)\n",
    "    p = b[normalized_idx:normalized_idx+1].sum()\n",
    "    c = b.subtract(p).div(p).mul(100).round()\n",
    "    return c"
   ]
  },
  {
   "cell_type": "code",
   "execution_count": null,
   "metadata": {},
   "outputs": [],
   "source": []
  },
  {
   "cell_type": "code",
   "execution_count": 37,
   "metadata": {},
   "outputs": [],
   "source": [
    "correct_column_order = [\n",
    "'context siwtch          kbest',\n",
    "'context siwtch        average',\n",
    "\n",
    "'small read          kbest',\n",
    "'small read        average',\n",
    "'mid read          kbest',\n",
    "'mid read        average',\n",
    "'big read          kbest',\n",
    "'big read        average',\n",
    "'huge read          kbest',\n",
    "'huge read        average',\n",
    "\n",
    "\n",
    "'small write          kbest',\n",
    "'small write        average',\n",
    "'mid write          kbest',\n",
    "'mid write        average',\n",
    "'big write          kbest',\n",
    "'big write        average',\n",
    "'huge write          kbest',\n",
    "'huge write        average',\n",
    "\n",
    "\n",
    "'small mmap          kbest',\n",
    "'small mmap        average',\n",
    "'mid mmap          kbest',\n",
    "'mid mmap        average',\n",
    "'big mmap          kbest',\n",
    "'big mmap        average',\n",
    "'huge mmap          kbest',\n",
    "'huge mmap        average',\n",
    "\n",
    "\n",
    "'small munmap          kbest',\n",
    "'small munmap        average',\n",
    "'mid munmap          kbest',\n",
    "'mid munmap        average',\n",
    "'big munmap          kbest',\n",
    "'big munmap        average',\n",
    "'huge munmap          kbest',\n",
    "'huge munmap        average',\n",
    "\n",
    "\n",
    "'fork          kbest',\n",
    "'fork       average',\n",
    "'fork    Child kbest',\n",
    "'fork Child average',\n",
    "'big fork          kbest',\n",
    "'big fork       average',\n",
    "'big fork    Child kbest',\n",
    "'big fork Child average',\n",
    "'huge fork          kbest',\n",
    "'huge fork       average',\n",
    "'huge fork    Child kbest',\n",
    "'huge fork Child average',\n",
    "\n",
    "'thr create          kbest',\n",
    "'thr create       average',\n",
    "'thr create    Child kbest',\n",
    "'thr create Child average',\n",
    "\n",
    "'send          kbest',\n",
    "'send        average',\n",
    "'recv          kbest',\n",
    "'recv        average',\n",
    "'big send          kbest',\n",
    "'big send        average',\n",
    "'big recv          kbest',\n",
    "'big recv        average',\n",
    "\n",
    "\n",
    "\n",
    "\n",
    "'select          kbest',\n",
    "'select        average',\n",
    "'poll          kbest',\n",
    "'poll        average',\n",
    "'epoll          kbest',\n",
    "'epoll        average',\n",
    "\n",
    "'select big          kbest',\n",
    "'select big        average',\n",
    "'poll big          kbest',\n",
    "'poll big        average',\n",
    "'epoll big          kbest',\n",
    "'epoll big        average',\n",
    "\n",
    "'small page fault          kbest',\n",
    "'small page fault        average',\n",
    "'mid page fault          kbest',\n",
    "'mid page fault        average',\n",
    "'big page fault          kbest',\n",
    "'big page fault        average',\n",
    "'huge page fault          kbest',\n",
    "'huge page fault        average',\n",
    "\n",
    "'ref          kbest',\n",
    "'ref        average',\n",
    "'cpu          kbest',\n",
    "'cpu        average',\n",
    "'getpid          kbest',\n",
    "'getpid        average',\n",
    "]"
   ]
  },
  {
   "cell_type": "code",
   "execution_count": null,
   "metadata": {},
   "outputs": [],
   "source": []
  },
  {
   "cell_type": "code",
   "execution_count": 38,
   "metadata": {},
   "outputs": [],
   "source": [
    "a = crosstask_df[0]"
   ]
  },
  {
   "cell_type": "code",
   "execution_count": 39,
   "metadata": {},
   "outputs": [],
   "source": [
    "b = crosstask_df[1:]"
   ]
  },
  {
   "cell_type": "code",
   "execution_count": 40,
   "metadata": {},
   "outputs": [
    {
     "data": {
      "text/html": [
       "<div>\n",
       "<style scoped>\n",
       "    .dataframe tbody tr th:only-of-type {\n",
       "        vertical-align: middle;\n",
       "    }\n",
       "\n",
       "    .dataframe tbody tr th {\n",
       "        vertical-align: top;\n",
       "    }\n",
       "\n",
       "    .dataframe thead th {\n",
       "        text-align: right;\n",
       "    }\n",
       "</style>\n",
       "<table border=\"1\" class=\"dataframe\">\n",
       "  <thead>\n",
       "    <tr style=\"text-align: right;\">\n",
       "      <th></th>\n",
       "      <th>0</th>\n",
       "      <th>4</th>\n",
       "      <th>8</th>\n",
       "      <th>12</th>\n",
       "    </tr>\n",
       "  </thead>\n",
       "  <tbody>\n",
       "    <tr>\n",
       "      <th>ref          kbest</th>\n",
       "      <td>2.8e-08</td>\n",
       "      <td>2.8e-08</td>\n",
       "      <td>2.8e-08</td>\n",
       "      <td>2.8e-08</td>\n",
       "    </tr>\n",
       "    <tr>\n",
       "      <th>ref        average</th>\n",
       "      <td>4.4e-08</td>\n",
       "      <td>3.3e-08</td>\n",
       "      <td>3.2e-08</td>\n",
       "      <td>3.2e-08</td>\n",
       "    </tr>\n",
       "    <tr>\n",
       "      <th>cpu          kbest</th>\n",
       "      <td>0.00308454</td>\n",
       "      <td>0.00308459</td>\n",
       "      <td>0.00308459</td>\n",
       "      <td>0.00308458</td>\n",
       "    </tr>\n",
       "    <tr>\n",
       "      <th>cpu        average</th>\n",
       "      <td>0.00365277</td>\n",
       "      <td>0.00311658</td>\n",
       "      <td>0.00310848</td>\n",
       "      <td>0.00312007</td>\n",
       "    </tr>\n",
       "    <tr>\n",
       "      <th>getpid          kbest</th>\n",
       "      <td>5.3e-07</td>\n",
       "      <td>7.7e-08</td>\n",
       "      <td>7.8e-08</td>\n",
       "      <td>8e-08</td>\n",
       "    </tr>\n",
       "  </tbody>\n",
       "</table>\n",
       "</div>"
      ],
      "text/plain": [
       "                               0           4           8           12\n",
       "ref          kbest        2.8e-08     2.8e-08     2.8e-08     2.8e-08\n",
       "ref        average        4.4e-08     3.3e-08     3.2e-08     3.2e-08\n",
       "cpu          kbest     0.00308454  0.00308459  0.00308459  0.00308458\n",
       "cpu        average     0.00365277  0.00311658  0.00310848  0.00312007\n",
       "getpid          kbest     5.3e-07     7.7e-08     7.8e-08       8e-08"
      ]
     },
     "execution_count": 40,
     "metadata": {},
     "output_type": "execute_result"
    }
   ],
   "source": [
    "a.T.head()"
   ]
  },
  {
   "cell_type": "code",
   "execution_count": 41,
   "metadata": {},
   "outputs": [],
   "source": [
    "normalized = get_normalized(crosstask_df[0], normalized_idx=1)\n",
    "normalized = normalized[correct_column_order]"
   ]
  },
  {
   "cell_type": "code",
   "execution_count": 42,
   "metadata": {},
   "outputs": [
    {
     "data": {
      "text/html": [
       "<div>\n",
       "<style scoped>\n",
       "    .dataframe tbody tr th:only-of-type {\n",
       "        vertical-align: middle;\n",
       "    }\n",
       "\n",
       "    .dataframe tbody tr th {\n",
       "        vertical-align: top;\n",
       "    }\n",
       "\n",
       "    .dataframe thead th {\n",
       "        text-align: right;\n",
       "    }\n",
       "</style>\n",
       "<table border=\"1\" class=\"dataframe\">\n",
       "  <thead>\n",
       "    <tr style=\"text-align: right;\">\n",
       "      <th></th>\n",
       "      <th>0</th>\n",
       "      <th>4</th>\n",
       "      <th>8</th>\n",
       "      <th>12</th>\n",
       "    </tr>\n",
       "  </thead>\n",
       "  <tbody>\n",
       "    <tr>\n",
       "      <th>context siwtch          kbest</th>\n",
       "      <td>72.0</td>\n",
       "      <td>0.0</td>\n",
       "      <td>-0.0</td>\n",
       "      <td>-0.0</td>\n",
       "    </tr>\n",
       "    <tr>\n",
       "      <th>context siwtch        average</th>\n",
       "      <td>64.0</td>\n",
       "      <td>0.0</td>\n",
       "      <td>0.0</td>\n",
       "      <td>1.0</td>\n",
       "    </tr>\n",
       "    <tr>\n",
       "      <th>small read          kbest</th>\n",
       "      <td>167.0</td>\n",
       "      <td>0.0</td>\n",
       "      <td>-1.0</td>\n",
       "      <td>4.0</td>\n",
       "    </tr>\n",
       "    <tr>\n",
       "      <th>small read        average</th>\n",
       "      <td>151.0</td>\n",
       "      <td>0.0</td>\n",
       "      <td>0.0</td>\n",
       "      <td>4.0</td>\n",
       "    </tr>\n",
       "    <tr>\n",
       "      <th>mid read          kbest</th>\n",
       "      <td>20.0</td>\n",
       "      <td>0.0</td>\n",
       "      <td>-1.0</td>\n",
       "      <td>1.0</td>\n",
       "    </tr>\n",
       "  </tbody>\n",
       "</table>\n",
       "</div>"
      ],
      "text/plain": [
       "                                  0    4    8    12\n",
       "context siwtch          kbest   72.0  0.0 -0.0 -0.0\n",
       "context siwtch        average   64.0  0.0  0.0  1.0\n",
       "small read          kbest      167.0  0.0 -1.0  4.0\n",
       "small read        average      151.0  0.0  0.0  4.0\n",
       "mid read          kbest         20.0  0.0 -1.0  1.0"
      ]
     },
     "execution_count": 42,
     "metadata": {},
     "output_type": "execute_result"
    }
   ],
   "source": [
    "normalized.T.head()"
   ]
  },
  {
   "cell_type": "code",
   "execution_count": 43,
   "metadata": {},
   "outputs": [],
   "source": [
    "normalized_avg = normalized[\n",
    "    [i for i in normalized.columns if i.find(\"average\") >= 0]\n",
    "]"
   ]
  },
  {
   "cell_type": "code",
   "execution_count": null,
   "metadata": {},
   "outputs": [],
   "source": []
  },
  {
   "cell_type": "code",
   "execution_count": 44,
   "metadata": {},
   "outputs": [],
   "source": [
    "dpi = 100\n",
    "import matplotlib as mpl\n",
    "mpl.rcParams['figure.dpi']= dpi\n",
    "\n",
    "import matplotlib as mpl\n",
    "mpl.rc(\"savefig\", dpi=dpi)"
   ]
  },
  {
   "cell_type": "code",
   "execution_count": 45,
   "metadata": {
    "scrolled": false
   },
   "outputs": [
    {
     "data": {
      "image/png": "[encoded data removed]",
      "text/plain": [
       "<Figure size 400x1600 with 2 Axes>"
      ]
     },
     "metadata": {
      "needs_background": "light"
     },
     "output_type": "display_data"
    }
   ],
   "source": [
    "plt.matshow(\n",
    "    normalized_avg.T, \n",
    "    interpolation='nearest',\n",
    "    vmax=20, vmin=-100\n",
    ")\n",
    "\n",
    "xlabels = [str(i) for i in [\n",
    "    \"task1-4.15.0\",\n",
    "    \"task2-4.12.0\",\n",
    "    \"task3-4.12.0-patch\",\n",
    "    \"task4-4.12.0-config\"\n",
    "]]\n",
    "\n",
    "ylabels = [i.split(\"average\")[0].strip(\" \") for i in normalized_avg.columns]\n",
    "\n",
    "plt.xticks(np.arange(len(xlabels)), xlabels, rotation='vertical')\n",
    "plt.yticks(np.arange(len(ylabels)), ylabels)\n",
    "\n",
    "plt.colorbar()\n",
    "\n",
    "for (i, j), z in np.ndenumerate(normalized_avg.T):\n",
    "    plt.text(\n",
    "        j, i, '{:0.0f}'.format(z), ha='center', va='center', \n",
    "#              color='w'\n",
    "            )"
   ]
  },
  {
   "cell_type": "code",
   "execution_count": null,
   "metadata": {},
   "outputs": [],
   "source": []
  },
  {
   "cell_type": "code",
   "execution_count": null,
   "metadata": {},
   "outputs": [],
   "source": []
  }
 ],
 "metadata": {
  "kernelspec": {
   "display_name": "Python 3",
   "language": "python",
   "name": "python3"
  },
  "language_info": {
   "codemirror_mode": {
    "name": "ipython",
    "version": 3
   },
   "file_extension": ".py",
   "mimetype": "text/x-python",
   "name": "python",
   "nbconvert_exporter": "python",
   "pygments_lexer": "ipython3",
   "version": "3.6.8"
  }
 },
 "nbformat": 4,
 "nbformat_minor": 4
}
